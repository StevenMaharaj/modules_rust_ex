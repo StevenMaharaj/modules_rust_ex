{
 "cells": [
  {
   "cell_type": "code",
   "execution_count": 1,
   "id": "a2453b3b-f667-4f4a-84e4-edd0325f6834",
   "metadata": {
    "tags": []
   },
   "outputs": [],
   "source": [
    "let bid = 0.01303"
   ]
  },
  {
   "cell_type": "code",
   "execution_count": null,
   "id": "7ac286f7-7c77-414c-b5a2-4aeb584833b9",
   "metadata": {},
   "outputs": [],
   "source": []
  }
 ],
 "metadata": {
  "kernelspec": {
   "display_name": "Mojo",
   "language": "mojo",
   "name": "mojo-jupyter-kernel"
  },
  "language_info": {
   "codemirror_mode": {
    "name": "mojo"
   },
   "file_extension": ".mojo",
   "mimetype": "text/x-mojo",
   "name": "mojo"
  }
 },
 "nbformat": 4,
 "nbformat_minor": 5
}
